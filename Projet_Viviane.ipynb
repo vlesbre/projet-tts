{
 "metadata": {
  "language_info": {
   "codemirror_mode": {
    "name": "ipython",
    "version": 3
   },
   "file_extension": ".py",
   "mimetype": "text/x-python",
   "name": "python",
   "nbconvert_exporter": "python",
   "pygments_lexer": "ipython3",
   "version": 3
  },
  "orig_nbformat": 2
 },
 "nbformat": 4,
 "nbformat_minor": 2,
 "cells": [
  {
   "source": [
    "# Mini-Projet : débruitage d'image\n",
    "\n",
    "*Viviane LESBRE*"
   ],
   "cell_type": "markdown",
   "metadata": {}
  },
  {
   "cell_type": "code",
   "execution_count": null,
   "metadata": {},
   "outputs": [],
   "source": [
    "import numpy as np\n",
    "import matplotlib.pyplot as plt"
   ]
  },
  {
   "cell_type": "code",
   "execution_count": null,
   "metadata": {},
   "outputs": [],
   "source": [
    "from skimage.io import imread\n",
    "img = imread(\"lena.png\")\n",
    "nx, ny = img.shape\n",
    "npixels = nx*ny"
   ]
  },
  {
   "source": [
    "## Question 1 :\n",
    "On souhaite calculer la transformée de Fourier de l'image. Ensuite on implémente une fonction qui reconstruit l'image originale en ne conservant que les coefficients de Fourier correspondant aux $K$ fréquences les plus basses :\n"
   ],
   "cell_type": "markdown",
   "metadata": {}
  },
  {
   "cell_type": "code",
   "execution_count": null,
   "metadata": {},
   "outputs": [],
   "source": [
    "def fourier(img):\n",
    "    img_hat = np.fft.fft2(img)\n",
    "    return (img_hat)"
   ]
  },
  {
   "cell_type": "code",
   "execution_count": null,
   "metadata": {},
   "outputs": [],
   "source": [
    "def linear_approximation(img, K):\n",
    "    img_hat = fourier(img)\n",
    "    img_hat[K//2:-K//2, K//2:-K//2] = 0\n",
    "    return (np.fft.ifft2(img_hat))"
   ]
  },
  {
   "source": [
    "Pour calculer l'erreur $\\Delta = \\dfrac{\\|I - I_r\\|_2}{N}$ on fait une boucle sur les valeurs de K et on calcule pour chaque valeur le nouveau $\\Delta$. POur calculer la norme on utilise la fonction de numpy `np.linalg.norm`"
   ],
   "cell_type": "markdown",
   "metadata": {}
  },
  {
   "cell_type": "code",
   "execution_count": null,
   "metadata": {},
   "outputs": [],
   "source": [
    "I = np.fft.ifft(img)\n",
    "Delta = []\n",
    "for k in range(2,90):\n",
    "    Ir = linear_approximation(img, k)\n",
    "    dif = np.linalg.norm(I-Ir, 2)\n",
    "    delta = dif/npixels\n",
    "    Delta.append(delta )\n",
    "\n",
    "plt.plot(Delta);"
   ]
  },
  {
   "cell_type": "code",
   "execution_count": null,
   "metadata": {},
   "outputs": [],
   "source": [
    "fig, ax = plt.subplots(1, 2, figsize=(12, 24), sharex=True, sharey=True)\n",
    "ax[0].imshow(img, cmap='gray')\n",
    "ax[1].imshow(np.abs(img_approx_linear), cmap='gray')\n",
    "for a in ax.ravel():\n",
    "    a.set_axis_off()\n",
    "plt.tight_layout()\n",
    "plt.show()"
   ]
  },
  {
   "source": [
    "## Question 2\n",
    "On reconstruit l'image original à partir des $K$ coefficients de Fourier dont les amplitudes sont maximales."
   ],
   "cell_type": "markdown",
   "metadata": {}
  },
  {
   "cell_type": "code",
   "execution_count": null,
   "metadata": {},
   "outputs": [],
   "source": [
    "def nonlinear_approximation(img, ncoeffs):\n",
    "    img_hat = np.fft.fft2(img)\n",
    "    coeffs = np.sort(np.abs(img_hat).ravel())\n",
    "    threshold = coeffs[-ncoeffs]\n",
    "    mask = (np.abs(img_hat) >= threshold)\n",
    "    return np.fft.ifft2(img_hat*mask).real"
   ]
  },
  {
   "cell_type": "code",
   "execution_count": null,
   "metadata": {},
   "outputs": [],
   "source": [
    "K = 50000\n",
    "print(\"Facteur de compression: \" + str(npixels/K))\n",
    "img_nonlineaire = nonlinear_approximation(img, K)\n",
    "err = np.linalg.norm(img_nonlineaire - img)/npixels\n",
    "print(\"Erreur de reconstruction: \" + str(err))"
   ]
  },
  {
   "cell_type": "code",
   "execution_count": null,
   "metadata": {},
   "outputs": [],
   "source": [
    "fig, ax = plt.subplots(1, 2, figsize=(12, 24), sharex=True, sharey=True)\n",
    "ax[0].imshow(img, cmap='gray')\n",
    "ax[1].imshow(img_nonlineaire, cmap='gray')\n",
    "for a in ax.ravel():\n",
    "    a.set_axis_off()\n",
    "plt.tight_layout()\n",
    "plt.show()"
   ]
  },
  {
   "source": [
    "On remarque que l'essentiel de l'énergie de l'image se concentre sur un nombre restreint de coefficients, odnc même en en enlevant beaucoup de coefficients l'image est encore discernable."
   ],
   "cell_type": "markdown",
   "metadata": {}
  },
  {
   "source": [
    "## Question 3 :\n",
    "On cherche à bruiter l'image par un bruit gaussien additif de moyenne nulle et d'écart-type $\\sigma = 15$ :"
   ],
   "cell_type": "markdown",
   "metadata": {}
  },
  {
   "cell_type": "code",
   "execution_count": null,
   "metadata": {},
   "outputs": [],
   "source": [
    "noise = np.random.normal(0, 15, size = (nx, ny))\n",
    "img_bruitee = noise + img\n",
    "\n",
    "fig, ax = plt.subplots(2, 2, figsize=(24, 24), sharex=True, sharey=True)\n",
    "ax[0, 0].imshow(img, cmap='gray')\n",
    "ax[0,0].text(15, 15, 'Photo originale', bbox={'facecolor': 'white', 'pad': 10})\n",
    "ax[1, 0].imshow(img_bruitee, cmap='gray')\n",
    "ax[1,0].text(15, 15, 'image bruitée', bbox={'facecolor': 'white', 'pad': 10})\n",
    "ax[0, 1].imshow(noise, cmap='gray')\n",
    "ax[0,1].text(15, 15, '''Bruit qu'on va ajouter''', bbox={'facecolor': 'white', 'pad': 10})\n",
    "ax[1, 1].imshow(np.abs(np.fft.fft2(noise)), cmap='gray')\n",
    "ax[1,1].text(15, 15, 'TTF du bruit', bbox={'facecolor': 'white', 'pad': 10})\n",
    "for a in ax.ravel():\n",
    "    a.set_axis_off()\n",
    "plt.tight_layout()\n",
    "plt.show()"
   ]
  },
  {
   "source": [
    "On remarque bien une similitude du bruit dans l'espace réel et dans l'espace fréquentiel, cela est du à "
   ],
   "cell_type": "markdown",
   "metadata": {}
  },
  {
   "source": [
    "## Question 4\n",
    "On débruite en fixant un seuil `threshold`:"
   ],
   "cell_type": "markdown",
   "metadata": {}
  },
  {
   "cell_type": "code",
   "execution_count": null,
   "metadata": {},
   "outputs": [],
   "source": [
    "def fourier_thresholding(img, threshold):\n",
    "    img_hat = np.fft.fft2(img)\n",
    "    masque = (np.abs(img_hat) >= threshold)\n",
    "    return np.fft.ifft2(img_hat*masque).real  #on ne s'interesse que à la partie réelle"
   ]
  },
  {
   "source": [
    "On avait sans prétraiter la photo :"
   ],
   "cell_type": "markdown",
   "metadata": {}
  },
  {
   "cell_type": "code",
   "execution_count": null,
   "metadata": {},
   "outputs": [],
   "source": [
    "err_orig = np.linalg.norm(img - img_bruitee)/npixels\n",
    "print(\"L'erreur originale est de \"  + str(err_orig))"
   ]
  },
  {
   "source": [
    "Maintenant on fixe le seuil et on coupe toutes les valeurs supérieures"
   ],
   "cell_type": "markdown",
   "metadata": {}
  },
  {
   "cell_type": "code",
   "execution_count": null,
   "metadata": {},
   "outputs": [],
   "source": [
    "fig, ax = plt.subplots(1, 2, figsize=(10, 20), sharex=True, sharey=True)\n",
    "\n",
    "threshold = 25000\n",
    "\n",
    "img_debruitee = fourier_thresholding(img_bruitee, threshold)\n",
    "ax[0].imshow(img_bruitee, cmap='gray')\n",
    "ax[1].imshow(img_debruitee, cmap='gray')\n",
    "err = np.linalg.norm(img_debruitee - img)/npixels\n",
    "print(\"Erreur pour le seuil \" + str(threshold) + \": \" + str(err))\n",
    "    \n",
    "for a in ax.ravel():\n",
    "    a.set_axis_off()"
   ]
  },
  {
   "source": [
    "## Question 5 :\n",
    "On remplace la valeur de chaque pixel par la médiane des valeurs des pixels qui l'entoure, pour cela on utilise la bibliothèque `skimage`\n"
   ],
   "cell_type": "markdown",
   "metadata": {}
  },
  {
   "cell_type": "code",
   "execution_count": null,
   "metadata": {},
   "outputs": [],
   "source": [
    "def median_filter(img, size):\n",
    "    from skimage.filters import median\n",
    "    from skimage.morphology import square\n",
    "    img_median = median(img, selem=square(size))      \n",
    "    return img_median"
   ]
  },
  {
   "cell_type": "code",
   "execution_count": null,
   "metadata": {},
   "outputs": [],
   "source": [
    "size = 5\n",
    "img_median = median_filter(img_bruitee, size)\n",
    "\n",
    "err_median = np.linalg.norm(img - img_median)/npixels\n",
    "print(\"L'erreur du filtre médian est : \" + str(err_median))\n",
    "\n",
    "\n",
    "fig, ax = plt.subplots(1, 2, figsize=(10, 20), sharex=True, sharey=True)\n",
    "ax[0].imshow(img_bruitee, cmap='gray')\n",
    "ax[0].set_title(\"Image bruitée\")\n",
    "ax[1].imshow(img_median, cmap='gray')\n",
    "ax[1].set_title(\"Filtre médian appliqué\")\n",
    "for a in ax.ravel():\n",
    "    a.set_axis_off()\n",
    "    \n",
    "plt.tight_layout()\n",
    "plt.show()    "
   ]
  },
  {
   "source": [
    "On utilise la médiane plutôt que la moyenne pour mieux prendre en compte les grands écarts de valeurs, donc augmenter le constraste."
   ],
   "cell_type": "markdown",
   "metadata": {}
  },
  {
   "source": [
    "## Question 6 :\n",
    "\n",
    "On applique un filtrage par noyau gaussien à `img_bruitee` via la formule $G(x, y) = \\dfrac{1}{2 \\pi \\sigma^2 }\\exp \\bigg (\\dfrac{x^2 + y^2}{2 \\sigma ^2} \\bigg )$ et la bibliothèque scikit."
   ],
   "cell_type": "markdown",
   "metadata": {}
  },
  {
   "cell_type": "code",
   "execution_count": null,
   "metadata": {},
   "outputs": [],
   "source": [
    "from scipy.ndimage import gaussian_filter\n",
    "img_g = gaussian_filter(img_bruitee, sigma=1.)\n",
    "\n",
    "err_g = np.linalg.norm(img - img_g)/npixels\n",
    "print(\"L'erreur du filtre Gaussien est: \" + str(err_g))\n",
    "\n",
    "fig, ax = plt.subplots(1, 2, figsize=(10, 20), sharex=True, sharey=True)\n",
    "ax[0].imshow(img_bruitee, cmap='gray')\n",
    "ax[0].set_title(\"Image bruitée\")\n",
    "ax[1].imshow(img_g, cmap='gray')\n",
    "ax[1].set_title(\"Filtre gaussien appliqué\")\n",
    "for a in ax.ravel():\n",
    "    a.set_axis_off()\n",
    "    \n",
    "plt.tight_layout()\n",
    "plt.show()    "
   ]
  },
  {
   "source": [
    "Ce filtrage a pour effet d'accentuer la netteté de l'image."
   ],
   "cell_type": "markdown",
   "metadata": {}
  },
  {
   "source": [
    "## Question 7a\n",
    "\n",
    "On cherche à calculer le Laplacien de l'image bruitée, on a \n",
    "$$\n",
    "\\Delta T = \\dfrac{\\partial ^2 T}{\\partial x^2} + \\dfrac{\\partial ^2 T}{\\partial y^2}.\n",
    "$$\n",
    "On discrétise la dérivée seconde :\n",
    "$$\n",
    "\\frac{\\partial f²}{\\partial² x} = \\frac{f(x+dx)+f(x-dx)-2f(x)}{dx²}\n",
    "$$"
   ],
   "cell_type": "markdown",
   "metadata": {}
  },
  {
   "cell_type": "code",
   "execution_count": null,
   "metadata": {},
   "outputs": [],
   "source": [
    "def laplacian(img):\n",
    "    nx, ny = img.shape\n",
    "    #On symétrise les frontières\n",
    "    img_f = np.zeros((nx + 2, ny + 2))\n",
    "    img_f[1:-1, 1:-1] = img\n",
    "    img_f[0, 1:-1] = img[0, :]\n",
    "    img_f[-1, 1:-1] = img[-1, :]\n",
    "    img_f[1:-1, 0] = img[:, 0]\n",
    "    img_f[1:-1, -1] = img[:, -1]\n",
    "\n",
    "    lapl_x = img_f[2:, :] - 2*img_f[1:-1, :] + img_f[:-2, :]\n",
    "    lapl_y = img_f[:, 2:] - 2*img_f[:, 1:-1] + img_f[:,:-2]\n",
    "    return lapl_x[:, 1:-1] + lapl_y[1:-1, :]"
   ]
  },
  {
   "cell_type": "code",
   "execution_count": null,
   "metadata": {},
   "outputs": [],
   "source": [
    "img_lapl = laplacian(img)\n",
    "fig, ax = plt.subplots(1, 2, figsize=(10, 20), sharex=True, sharey=True)\n",
    "ax[0].imshow(img, cmap='gray')\n",
    "ax[0].set_title(\"Photo originale\")\n",
    "ax[1].imshow(img_lapl, cmap='gray')\n",
    "ax[1].set_title(\"Son laplacien\")\n",
    "for a in ax.ravel():\n",
    "    a.set_axis_off()"
   ]
  },
  {
   "source": [
    "## Question 7:\n",
    "On résout l'équation de la diffusion à l'aide d'un schéma explicite en temps"
   ],
   "cell_type": "markdown",
   "metadata": {}
  },
  {
   "cell_type": "code",
   "execution_count": null,
   "metadata": {},
   "outputs": [],
   "source": [
    "def diffusion(img, t, tstep):\n",
    "    img = img.astype('float')\n",
    "    s = 0\n",
    "    while(s < t):\n",
    "        img += tstep*laplacian(img)\n",
    "        s += tstep\n",
    "    return img"
   ]
  },
  {
   "cell_type": "code",
   "execution_count": null,
   "metadata": {},
   "outputs": [],
   "source": [
    "t = 1.\n",
    "tstep = 0.01\n",
    "img_d = diffusion(img_bruitee, t, tstep)\n",
    "err_d = np.linalg.norm(img - img_d)/npixels\n",
    "print(\"L'erreur de diffusion est: \" + str(err_d))\n",
    "\n",
    "fig, ax = plt.subplots(1, 2, figsize=(10, 20), sharex=True, sharey=True)\n",
    "ax[0].imshow(img_bruitee, cmap='gray')\n",
    "ax[0].set_title(\"L'image bruitée\")\n",
    "ax[1].imshow(img_d, cmap='gray')\n",
    "ax[1].set_title(\"Image diffusée\")\n",
    "for a in ax.ravel():\n",
    "    a.set_axis_off()\n",
    "    \n",
    "plt.tight_layout()\n",
    "plt.show()    "
   ]
  }
 ]
}